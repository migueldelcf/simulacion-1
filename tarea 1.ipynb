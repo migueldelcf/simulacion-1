{
 "cells": [
  {
   "cell_type": "code",
   "execution_count": 9,
   "metadata": {
    "scrolled": true
   },
   "outputs": [
    {
     "name": "stdout",
     "output_type": "stream",
     "text": [
      "Intento 0: Adivina el numero!!! \n",
      "9\n",
      "Intento 1: Adivina el numero!!! \n",
      "2\n",
      "Intento 2: Adivina el numero!!! \n",
      "3\n"
     ]
    }
   ],
   "source": [
    "import random as ran \n",
    "num_adivinar = ran.randint(0,5)\n",
    "for i in range(3):\n",
    "    num_suposicion = int(input(\"Intento %d: Adivina el numero!!! \\n\" %(i)))\n",
    "    if num_adivinar == num_suposicion:\n",
    "        print (\"Genial Adivinaste!!!\")\n",
    "        print (\"¡¡¡Ganaste!!!\")\n",
    "        break\n",
    "\n"
   ]
  },
  {
   "cell_type": "markdown",
   "metadata": {},
   "source": []
  }
 ],
 "metadata": {
  "kernelspec": {
   "display_name": "Python 3",
   "language": "python",
   "name": "python3"
  },
  "language_info": {
   "codemirror_mode": {
    "name": "ipython",
    "version": 3
   },
   "file_extension": ".py",
   "mimetype": "text/x-python",
   "name": "python",
   "nbconvert_exporter": "python",
   "pygments_lexer": "ipython3",
   "version": "3.6.1"
  }
 },
 "nbformat": 4,
 "nbformat_minor": 2
}
